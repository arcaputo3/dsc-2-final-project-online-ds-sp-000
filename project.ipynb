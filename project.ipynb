{
 "cells": [
  {
   "cell_type": "markdown",
   "metadata": {},
   "source": [
    "# Module 2 Final Project\n",
    "### Rich Caputo\n",
    "\n",
    "In this notebook, we will examine the Northwind database and attempt to answer the question:\n",
    "\n",
    "**Do discounts have a statistically significant effect on the number of products customers order? If so, at what level(s) of discount?** In addition to three other questions which we will address later on.\n",
    "\n",
    "For reference, we have included the ERD below:\n",
    "<img src='Northwind_ERD.png'>\n",
    "\n",
    "As a first order of business, let's load the database into python using SQLAlchemy."
   ]
  },
  {
   "cell_type": "code",
   "execution_count": 57,
   "metadata": {},
   "outputs": [],
   "source": [
    "# Get relevant packages\n",
    "import pandas as pd\n",
    "from sqlalchemy import *\n",
    "from sqlalchemy.ext.automap import automap_base\n",
    "import numpy as np \n",
    "import matplotlib.pyplot as plt\n",
    "from pprint import pprint"
   ]
  },
  {
   "cell_type": "code",
   "execution_count": 25,
   "metadata": {},
   "outputs": [],
   "source": [
    "# Connect with sqlalchemy\n",
    "engine = create_engine('sqlite:///Northwind_small.sqlite')\n",
    "conn = engine.connect()"
   ]
  },
  {
   "cell_type": "code",
   "execution_count": 26,
   "metadata": {},
   "outputs": [
    {
     "name": "stdout",
     "output_type": "stream",
     "text": [
      "['Category',\n",
      " 'Customer',\n",
      " 'CustomerCustomerDemo',\n",
      " 'CustomerDemographic',\n",
      " 'Employee',\n",
      " 'EmployeeTerritory',\n",
      " 'Order',\n",
      " 'OrderDetail',\n",
      " 'Product',\n",
      " 'Region',\n",
      " 'Shipper',\n",
      " 'Supplier',\n",
      " 'Territory']\n"
     ]
    }
   ],
   "source": [
    "# Get each table name\n",
    "pprint(engine.table_names())"
   ]
  },
  {
   "cell_type": "markdown",
   "metadata": {},
   "source": [
    "We now have access to our database directly. Notice that some tables have slightly different names than what they are labeled as in the ERD - it is always good practice to print table names. In order to answer our first question, we are primarily focused on looking at the following tables:\n",
    "- OrderDetail\n",
    "- Product\n",
    "\n",
    "We need to take a look at the number of orders per product and differentiate between non-discounted and discounted products. The following query should contain all of the data we need for statistical analysis. Let's run this query and import our data into a pandas DataFrame."
   ]
  },
  {
   "cell_type": "code",
   "execution_count": 40,
   "metadata": {},
   "outputs": [
    {
     "name": "stdout",
     "output_type": "stream",
     "text": [
      "['Id', 'OrderId', 'ProductId', 'UnitPrice', 'Quantity', 'Discount']\n",
      "['Id', 'ProductName', 'SupplierId', 'CategoryId', 'QuantityPerUnit', 'UnitPrice', 'UnitsInStock', 'UnitsOnOrder', 'ReorderLevel', 'Discontinued']\n"
     ]
    }
   ],
   "source": [
    "# Inspect column names - ensures correct queries\n",
    "inspector = inspect(engine)\n",
    "print([x['name'] for x in inspector.get_columns('OrderDetail')])\n",
    "print([x['name'] for x in inspector.get_columns('Product')])"
   ]
  },
  {
   "cell_type": "code",
   "execution_count": 48,
   "metadata": {},
   "outputs": [],
   "source": [
    "# Query relevant columns\n",
    "query = \"\"\"\n",
    "SELECT \n",
    "    p.ProductName, od.UnitPrice, od.Quantity, od.Discount\n",
    "FROM \n",
    "    Product p\n",
    "    JOIN\n",
    "    OrderDetail od\n",
    "    ON \n",
    "    p.Id = od.ProductId\n",
    "\"\"\"\n",
    "df = pd.read_sql_query(query, engine)"
   ]
  },
  {
   "cell_type": "code",
   "execution_count": 49,
   "metadata": {},
   "outputs": [
    {
     "data": {
      "text/html": [
       "<div>\n",
       "<style scoped>\n",
       "    .dataframe tbody tr th:only-of-type {\n",
       "        vertical-align: middle;\n",
       "    }\n",
       "\n",
       "    .dataframe tbody tr th {\n",
       "        vertical-align: top;\n",
       "    }\n",
       "\n",
       "    .dataframe thead th {\n",
       "        text-align: right;\n",
       "    }\n",
       "</style>\n",
       "<table border=\"1\" class=\"dataframe\">\n",
       "  <thead>\n",
       "    <tr style=\"text-align: right;\">\n",
       "      <th></th>\n",
       "      <th>ProductName</th>\n",
       "      <th>UnitPrice</th>\n",
       "      <th>Quantity</th>\n",
       "      <th>Discount</th>\n",
       "    </tr>\n",
       "  </thead>\n",
       "  <tbody>\n",
       "    <tr>\n",
       "      <th>0</th>\n",
       "      <td>Queso Cabrales</td>\n",
       "      <td>14.0</td>\n",
       "      <td>12</td>\n",
       "      <td>0.0</td>\n",
       "    </tr>\n",
       "    <tr>\n",
       "      <th>1</th>\n",
       "      <td>Singaporean Hokkien Fried Mee</td>\n",
       "      <td>9.8</td>\n",
       "      <td>10</td>\n",
       "      <td>0.0</td>\n",
       "    </tr>\n",
       "    <tr>\n",
       "      <th>2</th>\n",
       "      <td>Mozzarella di Giovanni</td>\n",
       "      <td>34.8</td>\n",
       "      <td>5</td>\n",
       "      <td>0.0</td>\n",
       "    </tr>\n",
       "    <tr>\n",
       "      <th>3</th>\n",
       "      <td>Tofu</td>\n",
       "      <td>18.6</td>\n",
       "      <td>9</td>\n",
       "      <td>0.0</td>\n",
       "    </tr>\n",
       "    <tr>\n",
       "      <th>4</th>\n",
       "      <td>Manjimup Dried Apples</td>\n",
       "      <td>42.4</td>\n",
       "      <td>40</td>\n",
       "      <td>0.0</td>\n",
       "    </tr>\n",
       "  </tbody>\n",
       "</table>\n",
       "</div>"
      ],
      "text/plain": [
       "                     ProductName  UnitPrice  Quantity  Discount\n",
       "0                 Queso Cabrales       14.0        12       0.0\n",
       "1  Singaporean Hokkien Fried Mee        9.8        10       0.0\n",
       "2         Mozzarella di Giovanni       34.8         5       0.0\n",
       "3                           Tofu       18.6         9       0.0\n",
       "4          Manjimup Dried Apples       42.4        40       0.0"
      ]
     },
     "execution_count": 49,
     "metadata": {},
     "output_type": "execute_result"
    }
   ],
   "source": [
    "df.head()"
   ]
  },
  {
   "cell_type": "code",
   "execution_count": 50,
   "metadata": {},
   "outputs": [
    {
     "data": {
      "text/plain": [
       "77"
      ]
     },
     "execution_count": 50,
     "metadata": {},
     "output_type": "execute_result"
    }
   ],
   "source": [
    "# Check number of unique products\n",
    "df.ProductName.nunique()"
   ]
  },
  {
   "cell_type": "code",
   "execution_count": 43,
   "metadata": {},
   "outputs": [
    {
     "name": "stdout",
     "output_type": "stream",
     "text": [
      "<class 'pandas.core.frame.DataFrame'>\n",
      "RangeIndex: 2155 entries, 0 to 2154\n",
      "Data columns (total 5 columns):\n",
      "ProductName     2155 non-null object\n",
      "UnitsOnOrder    2155 non-null int64\n",
      "UnitPrice       2155 non-null float64\n",
      "Quantity        2155 non-null int64\n",
      "Discount        2155 non-null float64\n",
      "dtypes: float64(2), int64(2), object(1)\n",
      "memory usage: 84.3+ KB\n"
     ]
    }
   ],
   "source": [
    "df.info()"
   ]
  },
  {
   "cell_type": "markdown",
   "metadata": {},
   "source": [
    "Great! We have all the data we need currently but can always run a new query to get more data if we need it. Let's now get to our hypothesis testing. Our hypothesis is that discounts have no effect on the number of products customers order. Our data currently contains each order along with: \n",
    "- Name of product being ordered\n",
    "- Unit price of that product\n",
    "- Quantity of product being ordered\n",
    "- Percentage discount on that order\n",
    "\n",
    "We need to differentiate between discounted and non-discounted orders. We can do this easily with pandas slicing. We will then take a look at each populations sample statistics."
   ]
  },
  {
   "cell_type": "code",
   "execution_count": 51,
   "metadata": {},
   "outputs": [],
   "source": [
    "df_disc, df_ndisc = df.loc[df.Discount > 0], df.loc[df.Discount == 0]"
   ]
  },
  {
   "cell_type": "code",
   "execution_count": 52,
   "metadata": {},
   "outputs": [
    {
     "data": {
      "text/html": [
       "<div>\n",
       "<style scoped>\n",
       "    .dataframe tbody tr th:only-of-type {\n",
       "        vertical-align: middle;\n",
       "    }\n",
       "\n",
       "    .dataframe tbody tr th {\n",
       "        vertical-align: top;\n",
       "    }\n",
       "\n",
       "    .dataframe thead th {\n",
       "        text-align: right;\n",
       "    }\n",
       "</style>\n",
       "<table border=\"1\" class=\"dataframe\">\n",
       "  <thead>\n",
       "    <tr style=\"text-align: right;\">\n",
       "      <th></th>\n",
       "      <th>UnitPrice</th>\n",
       "      <th>Quantity</th>\n",
       "      <th>Discount</th>\n",
       "    </tr>\n",
       "  </thead>\n",
       "  <tbody>\n",
       "    <tr>\n",
       "      <th>count</th>\n",
       "      <td>838.000000</td>\n",
       "      <td>838.000000</td>\n",
       "      <td>838.000000</td>\n",
       "    </tr>\n",
       "    <tr>\n",
       "      <th>mean</th>\n",
       "      <td>26.292363</td>\n",
       "      <td>27.109785</td>\n",
       "      <td>0.144439</td>\n",
       "    </tr>\n",
       "    <tr>\n",
       "      <th>std</th>\n",
       "      <td>30.017214</td>\n",
       "      <td>20.771439</td>\n",
       "      <td>0.071808</td>\n",
       "    </tr>\n",
       "    <tr>\n",
       "      <th>min</th>\n",
       "      <td>2.000000</td>\n",
       "      <td>1.000000</td>\n",
       "      <td>0.010000</td>\n",
       "    </tr>\n",
       "    <tr>\n",
       "      <th>25%</th>\n",
       "      <td>12.500000</td>\n",
       "      <td>12.000000</td>\n",
       "      <td>0.100000</td>\n",
       "    </tr>\n",
       "    <tr>\n",
       "      <th>50%</th>\n",
       "      <td>18.000000</td>\n",
       "      <td>20.000000</td>\n",
       "      <td>0.150000</td>\n",
       "    </tr>\n",
       "    <tr>\n",
       "      <th>75%</th>\n",
       "      <td>31.230000</td>\n",
       "      <td>36.000000</td>\n",
       "      <td>0.200000</td>\n",
       "    </tr>\n",
       "    <tr>\n",
       "      <th>max</th>\n",
       "      <td>263.500000</td>\n",
       "      <td>130.000000</td>\n",
       "      <td>0.250000</td>\n",
       "    </tr>\n",
       "  </tbody>\n",
       "</table>\n",
       "</div>"
      ],
      "text/plain": [
       "        UnitPrice    Quantity    Discount\n",
       "count  838.000000  838.000000  838.000000\n",
       "mean    26.292363   27.109785    0.144439\n",
       "std     30.017214   20.771439    0.071808\n",
       "min      2.000000    1.000000    0.010000\n",
       "25%     12.500000   12.000000    0.100000\n",
       "50%     18.000000   20.000000    0.150000\n",
       "75%     31.230000   36.000000    0.200000\n",
       "max    263.500000  130.000000    0.250000"
      ]
     },
     "execution_count": 52,
     "metadata": {},
     "output_type": "execute_result"
    }
   ],
   "source": [
    "# Discounted Statistics\n",
    "df_disc.describe()"
   ]
  },
  {
   "cell_type": "code",
   "execution_count": 53,
   "metadata": {},
   "outputs": [
    {
     "data": {
      "text/html": [
       "<div>\n",
       "<style scoped>\n",
       "    .dataframe tbody tr th:only-of-type {\n",
       "        vertical-align: middle;\n",
       "    }\n",
       "\n",
       "    .dataframe tbody tr th {\n",
       "        vertical-align: top;\n",
       "    }\n",
       "\n",
       "    .dataframe thead th {\n",
       "        text-align: right;\n",
       "    }\n",
       "</style>\n",
       "<table border=\"1\" class=\"dataframe\">\n",
       "  <thead>\n",
       "    <tr style=\"text-align: right;\">\n",
       "      <th></th>\n",
       "      <th>UnitPrice</th>\n",
       "      <th>Quantity</th>\n",
       "      <th>Discount</th>\n",
       "    </tr>\n",
       "  </thead>\n",
       "  <tbody>\n",
       "    <tr>\n",
       "      <th>count</th>\n",
       "      <td>1317.000000</td>\n",
       "      <td>1317.000000</td>\n",
       "      <td>1317.0</td>\n",
       "    </tr>\n",
       "    <tr>\n",
       "      <th>mean</th>\n",
       "      <td>26.171534</td>\n",
       "      <td>21.715262</td>\n",
       "      <td>0.0</td>\n",
       "    </tr>\n",
       "    <tr>\n",
       "      <th>std</th>\n",
       "      <td>29.717354</td>\n",
       "      <td>17.507493</td>\n",
       "      <td>0.0</td>\n",
       "    </tr>\n",
       "    <tr>\n",
       "      <th>min</th>\n",
       "      <td>2.000000</td>\n",
       "      <td>1.000000</td>\n",
       "      <td>0.0</td>\n",
       "    </tr>\n",
       "    <tr>\n",
       "      <th>25%</th>\n",
       "      <td>12.000000</td>\n",
       "      <td>10.000000</td>\n",
       "      <td>0.0</td>\n",
       "    </tr>\n",
       "    <tr>\n",
       "      <th>50%</th>\n",
       "      <td>18.400000</td>\n",
       "      <td>18.000000</td>\n",
       "      <td>0.0</td>\n",
       "    </tr>\n",
       "    <tr>\n",
       "      <th>75%</th>\n",
       "      <td>32.800000</td>\n",
       "      <td>30.000000</td>\n",
       "      <td>0.0</td>\n",
       "    </tr>\n",
       "    <tr>\n",
       "      <th>max</th>\n",
       "      <td>263.500000</td>\n",
       "      <td>130.000000</td>\n",
       "      <td>0.0</td>\n",
       "    </tr>\n",
       "  </tbody>\n",
       "</table>\n",
       "</div>"
      ],
      "text/plain": [
       "         UnitPrice     Quantity  Discount\n",
       "count  1317.000000  1317.000000    1317.0\n",
       "mean     26.171534    21.715262       0.0\n",
       "std      29.717354    17.507493       0.0\n",
       "min       2.000000     1.000000       0.0\n",
       "25%      12.000000    10.000000       0.0\n",
       "50%      18.400000    18.000000       0.0\n",
       "75%      32.800000    30.000000       0.0\n",
       "max     263.500000   130.000000       0.0"
      ]
     },
     "execution_count": 53,
     "metadata": {},
     "output_type": "execute_result"
    }
   ],
   "source": [
    "# Non-discounted Statistics\n",
    "df_ndisc.describe()"
   ]
  },
  {
   "cell_type": "markdown",
   "metadata": {},
   "source": [
    "We see that discounted orders have a higher Quantity mean. However, this is not enough information to lead us to reject the null hypothesis. To get a better sense of Quantity distribution, we will extrapolate the PDF's of each population and plot them."
   ]
  },
  {
   "cell_type": "code",
   "execution_count": 62,
   "metadata": {},
   "outputs": [
    {
     "data": {
      "image/png": "[encoded data removed]",
      "text/plain": [
       "<Figure size 1080x720 with 1 Axes>"
      ]
     },
     "metadata": {
      "needs_background": "light"
     },
     "output_type": "display_data"
    }
   ],
   "source": [
    "# Plotting\n",
    "plt.figure(figsize=(15, 10))\n",
    "df_disc.Quantity.plot.kde(label='Discounted')\n",
    "df_ndisc.Quantity.plot.kde(label='Non-Discounted')\n",
    "plt.title('Discounted vs. Non-Discounted Order Quantity PDFs')\n",
    "plt.xlabel('Quantity per Order')\n",
    "plt.legend()\n",
    "plt.show()"
   ]
  },
  {
   "cell_type": "markdown",
   "metadata": {},
   "source": [
    "It's beginning to look like discounted orders have a slightly different distribution than non-discounted orders. Now, let's formerly phrase our hypothesis test. Let A represent the Quantity population of discounted orders and let B represent the Quantity population of non-discounted orders. \n",
    "\n",
    "Null Hypothesis ($H_0$):\n",
    "\n",
    "$$\\mu_A = \\mu_B$$\n",
    "\n",
    "Alternative Hypothesis ($H_1$):\n",
    "\n",
    "$$\\mu_A > \\mu_B$$\n",
    "\n",
    "where $\\mu_i$ represents the mean of population i. Notice that this represents a one-sided test since we only care if discounts increase order quantity. To implement our hypothesis test, we will use scipy's ttest_ind function and divide our alpha value by two. We will assume that discounted orders and non-discounted orders are independent samples. Furthermore, we will note that these distributions have unequal variance as this will affect our hypothesis test."
   ]
  },
  {
   "cell_type": "code",
   "execution_count": 67,
   "metadata": {},
   "outputs": [
    {
     "name": "stdout",
     "output_type": "stream",
     "text": [
      "Reject null hypothesis, mean of Discounted is greater than mean of Non-Discounted\n"
     ]
    }
   ],
   "source": [
    "import scipy.stats as stats\n",
    "\n",
    "# Get two-sample ttest\n",
    "results = stats.ttest_ind(df_disc.Quantity, df_ndisc.Quantity, equal_var=False)\n",
    "\n",
    "# pvalue <<< 0.05 reject null hypothesis, quantity mean of Discounted is greater than that of Non-discounted\n",
    "alpha = 0.05\n",
    "if (results[0] > 0) & (results[1]/2 < alpha):\n",
    "    print(\"Reject null hypothesis, mean of Discounted is greater than mean of Non-Discounted\")\n",
    "else:\n",
    "    print(\"Accept null hypothesis\")"
   ]
  },
  {
   "cell_type": "markdown",
   "metadata": {},
   "source": [
    "Looks like we have a statistically significant difference in population means. Let's see what our t-statistic and p-value actually were."
   ]
  },
  {
   "cell_type": "code",
   "execution_count": 68,
   "metadata": {},
   "outputs": [
    {
     "data": {
      "text/plain": [
       "Ttest_indResult(statistic=6.239069142123973, pvalue=5.65641429030433e-10)"
      ]
     },
     "execution_count": 68,
     "metadata": {},
     "output_type": "execute_result"
    }
   ],
   "source": [
    "results"
   ]
  },
  {
   "cell_type": "markdown",
   "metadata": {},
   "source": [
    "Our p-value is very small and our t-statistic is very high - we can affirm with high confidence that these population means are not equal and that in fact discounted orders are on average larger in quantity. Recall that we separated populations based on any discount >0 being different from any order with discount=0."
   ]
  },
  {
   "cell_type": "markdown",
   "metadata": {},
   "source": [
    "Let's now consider the monetary affect of discounts. Instead of just looking at quantity, we will generate a new column called 'Revenue' such that \n",
    "$$ Revenue = Quantity * Unit Price * (1 - Discount) $$\n",
    "and perform a t-test using this new metric. This will tell us if Discounts are financially an advantageous strategy. First we will consider a >0 / =0 split as before and then look at different discount thresholds."
   ]
  },
  {
   "cell_type": "code",
   "execution_count": 71,
   "metadata": {},
   "outputs": [
    {
     "name": "stderr",
     "output_type": "stream",
     "text": [
      "C:\\Users\\rcapu\\Anaconda3\\envs\\learn-env\\lib\\site-packages\\ipykernel_launcher.py:1: SettingWithCopyWarning: \n",
      "A value is trying to be set on a copy of a slice from a DataFrame.\n",
      "Try using .loc[row_indexer,col_indexer] = value instead\n",
      "\n",
      "See the caveats in the documentation: http://pandas.pydata.org/pandas-docs/stable/indexing.html#indexing-view-versus-copy\n",
      "  \"\"\"Entry point for launching an IPython kernel.\n",
      "C:\\Users\\rcapu\\Anaconda3\\envs\\learn-env\\lib\\site-packages\\ipykernel_launcher.py:2: SettingWithCopyWarning: \n",
      "A value is trying to be set on a copy of a slice from a DataFrame.\n",
      "Try using .loc[row_indexer,col_indexer] = value instead\n",
      "\n",
      "See the caveats in the documentation: http://pandas.pydata.org/pandas-docs/stable/indexing.html#indexing-view-versus-copy\n",
      "  \n"
     ]
    }
   ],
   "source": [
    "df_disc['Revenue'] = df_disc.Quantity * df_disc.UnitPrice * (1 - df_disc.Discount)\n",
    "df_ndisc['Revenue'] = df_ndisc.Quantity * df_ndisc.UnitPrice * (1 - df_ndisc.Discount)"
   ]
  },
  {
   "cell_type": "markdown",
   "metadata": {},
   "source": [
    "We will now look at the sample statistics of these distributions and plot their KDE's. From there we will perform a similar t-test as before!"
   ]
  },
  {
   "cell_type": "code",
   "execution_count": 73,
   "metadata": {},
   "outputs": [
    {
     "data": {
      "image/png": "[encoded data removed]",
      "text/plain": [
       "<Figure size 1080x720 with 1 Axes>"
      ]
     },
     "metadata": {
      "needs_background": "light"
     },
     "output_type": "display_data"
    }
   ],
   "source": [
    "# Plotting\n",
    "plt.figure(figsize=(15, 10))\n",
    "df_disc.Revenue.plot.kde(label='Discounted')\n",
    "df_ndisc.Revenue.plot.kde(label='Non-Discounted')\n",
    "plt.title('Discounted vs. Non-Discounted Order Revenue PDFs')\n",
    "plt.xlabel('Revenue per Order')\n",
    "plt.legend()\n",
    "plt.show()"
   ]
  },
  {
   "cell_type": "markdown",
   "metadata": {},
   "source": [
    "Due to the large tails of the Revenue distribution, it is difficult to gain any insight from the above plot. Let's look at the sample statistics of each distribution."
   ]
  },
  {
   "cell_type": "code",
   "execution_count": 75,
   "metadata": {},
   "outputs": [
    {
     "data": {
      "text/plain": [
       "count      838.000000\n",
       "mean       614.671157\n",
       "std        981.388386\n",
       "min          8.500000\n",
       "25%        162.000000\n",
       "50%        347.775000\n",
       "75%        693.600000\n",
       "max      15019.500000\n",
       "Name: Revenue, dtype: float64"
      ]
     },
     "execution_count": 75,
     "metadata": {},
     "output_type": "execute_result"
    }
   ],
   "source": [
    "df_disc.Revenue.describe()"
   ]
  },
  {
   "cell_type": "code",
   "execution_count": 76,
   "metadata": {},
   "outputs": [
    {
     "data": {
      "text/plain": [
       "count     1317.000000\n",
       "mean       570.006538\n",
       "std        961.375030\n",
       "min          4.800000\n",
       "25%        142.500000\n",
       "50%        325.000000\n",
       "75%        640.000000\n",
       "max      15810.000000\n",
       "Name: Revenue, dtype: float64"
      ]
     },
     "execution_count": 76,
     "metadata": {},
     "output_type": "execute_result"
    }
   ],
   "source": [
    "df_ndisc.Revenue.describe()"
   ]
  },
  {
   "cell_type": "markdown",
   "metadata": {},
   "source": [
    "It seems that revenue is larger for discounted orders on average. Let's finally perform a one-sided t-test to confirm if this difference is statistically significant."
   ]
  },
  {
   "cell_type": "code",
   "execution_count": 77,
   "metadata": {},
   "outputs": [
    {
     "name": "stdout",
     "output_type": "stream",
     "text": [
      "Accept null hypothesis\n"
     ]
    }
   ],
   "source": [
    "# Get two-sample ttest\n",
    "results = stats.ttest_ind(df_disc.Revenue, df_ndisc.Revenue, equal_var=False)\n",
    "\n",
    "# pvalue <<< 0.05 reject null hypothesis, quantity mean of Discounted is greater than that of Non-discounted\n",
    "alpha = 0.05\n",
    "if (results[0] > 0) & (results[1]/2 < alpha):\n",
    "    print(\"Reject null hypothesis, mean of Discounted is greater than mean of Non-Discounted\")\n",
    "else:\n",
    "    print(\"Accept null hypothesis\")"
   ]
  },
  {
   "cell_type": "markdown",
   "metadata": {},
   "source": [
    "It seems that this difference is not statistically significant at the 0.05 level. Let's take a look at our results."
   ]
  },
  {
   "cell_type": "code",
   "execution_count": 78,
   "metadata": {},
   "outputs": [
    {
     "data": {
      "text/plain": [
       "Ttest_indResult(statistic=1.0381255545690475, pvalue=0.2993546075168257)"
      ]
     },
     "execution_count": 78,
     "metadata": {},
     "output_type": "execute_result"
    }
   ],
   "source": [
    "results"
   ]
  },
  {
   "cell_type": "markdown",
   "metadata": {},
   "source": [
    "In fact, our results have quite a high p-value. It seems that although discounts provide a statistically significant affect on order quantity, they do not have a statistically significant affect on Revenue. Let's see if discount size has any affect. First, we will examine revenue as a function of discount"
   ]
  },
  {
   "cell_type": "code",
   "execution_count": 81,
   "metadata": {},
   "outputs": [
    {
     "data": {
      "text/plain": [
       "Discount\n",
       "0.00    1317\n",
       "0.01       1\n",
       "0.02       2\n",
       "0.03       3\n",
       "0.04       1\n",
       "0.05     185\n",
       "0.06       1\n",
       "0.10     173\n",
       "0.15     157\n",
       "0.20     161\n",
       "0.25     154\n",
       "Name: Revenue, dtype: int64"
      ]
     },
     "execution_count": 81,
     "metadata": {},
     "output_type": "execute_result"
    }
   ],
   "source": [
    "df['Revenue'] = df.Quantity * df.UnitPrice * (1 - df.Discount)\n",
    "df.groupby('Discount').Revenue.count()"
   ]
  },
  {
   "cell_type": "markdown",
   "metadata": {},
   "source": [
    "Given that certain discounts are uncommon, let's make a split at the discount = 0.1 level."
   ]
  },
  {
   "cell_type": "code",
   "execution_count": 82,
   "metadata": {},
   "outputs": [],
   "source": [
    "df_disc, df_ndisc = df.loc[df.Discount >= 0.1], df.loc[df.Discount < 0.1]"
   ]
  },
  {
   "cell_type": "code",
   "execution_count": 83,
   "metadata": {},
   "outputs": [
    {
     "name": "stdout",
     "output_type": "stream",
     "text": [
      "Accept null hypothesis\n"
     ]
    }
   ],
   "source": [
    "# Get two-sample ttest\n",
    "results = stats.ttest_ind(df_disc.Revenue, df_ndisc.Revenue, equal_var=False)\n",
    "\n",
    "# pvalue <<< 0.05 reject null hypothesis, quantity mean of Discounted is greater than that of Non-discounted\n",
    "alpha = 0.05\n",
    "if (results[0] > 0) & (results[1]/2 < alpha):\n",
    "    print(\"Reject null hypothesis, mean of Discounted is greater than mean of Non-Discounted\")\n",
    "else:\n",
    "    print(\"Accept null hypothesis\")"
   ]
  },
  {
   "cell_type": "code",
   "execution_count": 84,
   "metadata": {},
   "outputs": [
    {
     "data": {
      "text/plain": [
       "Ttest_indResult(statistic=-0.6284830250070176, pvalue=0.5297804753579476)"
      ]
     },
     "execution_count": 84,
     "metadata": {},
     "output_type": "execute_result"
    }
   ],
   "source": [
    "results"
   ]
  },
  {
   "cell_type": "code",
   "execution_count": null,
   "metadata": {},
   "outputs": [],
   "source": []
  }
 ],
 "metadata": {
  "kernelspec": {
   "display_name": "Python 3",
   "language": "python",
   "name": "python3"
  },
  "language_info": {
   "codemirror_mode": {
    "name": "ipython",
    "version": 3
   },
   "file_extension": ".py",
   "mimetype": "text/x-python",
   "name": "python",
   "nbconvert_exporter": "python",
   "pygments_lexer": "ipython3",
   "version": "3.6.6"
  }
 },
 "nbformat": 4,
 "nbformat_minor": 2
}
