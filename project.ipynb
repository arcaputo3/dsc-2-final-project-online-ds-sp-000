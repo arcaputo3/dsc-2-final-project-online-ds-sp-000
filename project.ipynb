{
 "cells": [
  {
   "cell_type": "markdown",
   "metadata": {},
   "source": [
    "# Module 2 Final Project\n",
    "### Rich Caputo\n",
    "\n",
    "In this notebook, we will examine the Northwind database and attempt to answer the question:\n",
    "\n",
    "**Do discounts have a statistically significant effect on the number of products customers order? If so, at what level(s) of discount?** In addition to three other questions which we will address later on.\n",
    "\n",
    "For reference, we have included the ERD below:\n",
    "<img src='Northwind_ERD.png'>\n",
    "\n",
    "As a first order of business, let's load the database into python using SQLAlchemy."
   ]
  },
  {
   "cell_type": "code",
   "execution_count": 1,
   "metadata": {},
   "outputs": [],
   "source": [
    "# Get relevant packages\n",
    "import pandas as pd\n",
    "from sqlalchemy import *\n",
    "from sqlalchemy.ext.automap import automap_base\n",
    "import numpy as np \n",
    "import matplotlib.pyplot as plt\n",
    "from pprint import pprint"
   ]
  },
  {
   "cell_type": "code",
   "execution_count": 2,
   "metadata": {},
   "outputs": [],
   "source": [
    "# Connect with sqlalchemy\n",
    "engine = create_engine('sqlite:///Northwind_small.sqlite')\n",
    "conn = engine.connect()"
   ]
  },
  {
   "cell_type": "code",
   "execution_count": 3,
   "metadata": {},
   "outputs": [
    {
     "name": "stdout",
     "output_type": "stream",
     "text": [
      "['Category',\n",
      " 'Customer',\n",
      " 'CustomerCustomerDemo',\n",
      " 'CustomerDemographic',\n",
      " 'Employee',\n",
      " 'EmployeeTerritory',\n",
      " 'Order',\n",
      " 'OrderDetail',\n",
      " 'Product',\n",
      " 'Region',\n",
      " 'Shipper',\n",
      " 'Supplier',\n",
      " 'Territory']\n"
     ]
    }
   ],
   "source": [
    "# Get each table name\n",
    "pprint(engine.table_names())"
   ]
  },
  {
   "cell_type": "markdown",
   "metadata": {},
   "source": [
    "We now have access to our database directly. Notice that some tables have slightly different names than what they are labeled as in the ERD - it is always good practice to print table names. In order to answer our first question, we are primarily focused on looking at the following tables:\n",
    "- OrderDetail\n",
    "- Product\n",
    "\n",
    "We need to take a look at the number of orders per product and differentiate between non-discounted and discounted products. The following query should contain all of the data we need for statistical analysis. Let's run this query and import our data into a pandas DataFrame."
   ]
  },
  {
   "cell_type": "code",
   "execution_count": 4,
   "metadata": {},
   "outputs": [
    {
     "name": "stdout",
     "output_type": "stream",
     "text": [
      "['Id', 'OrderId', 'ProductId', 'UnitPrice', 'Quantity', 'Discount']\n",
      "['Id', 'ProductName', 'SupplierId', 'CategoryId', 'QuantityPerUnit', 'UnitPrice', 'UnitsInStock', 'UnitsOnOrder', 'ReorderLevel', 'Discontinued']\n"
     ]
    }
   ],
   "source": [
    "# Inspect column names - ensures correct queries\n",
    "inspector = inspect(engine)\n",
    "print([x['name'] for x in inspector.get_columns('OrderDetail')])\n",
    "print([x['name'] for x in inspector.get_columns('Product')])"
   ]
  },
  {
   "cell_type": "code",
   "execution_count": 5,
   "metadata": {},
   "outputs": [],
   "source": [
    "# Query relevant columns\n",
    "query = \"\"\"\n",
    "SELECT \n",
    "    p.ProductName, od.UnitPrice, od.Quantity, od.Discount\n",
    "FROM \n",
    "    Product p\n",
    "    JOIN\n",
    "    OrderDetail od\n",
    "    ON \n",
    "    p.Id = od.ProductId\n",
    "\"\"\"\n",
    "df = pd.read_sql_query(query, engine)"
   ]
  },
  {
   "cell_type": "code",
   "execution_count": 6,
   "metadata": {},
   "outputs": [
    {
     "data": {
      "text/html": [
       "<div>\n",
       "<style scoped>\n",
       "    .dataframe tbody tr th:only-of-type {\n",
       "        vertical-align: middle;\n",
       "    }\n",
       "\n",
       "    .dataframe tbody tr th {\n",
       "        vertical-align: top;\n",
       "    }\n",
       "\n",
       "    .dataframe thead th {\n",
       "        text-align: right;\n",
       "    }\n",
       "</style>\n",
       "<table border=\"1\" class=\"dataframe\">\n",
       "  <thead>\n",
       "    <tr style=\"text-align: right;\">\n",
       "      <th></th>\n",
       "      <th>ProductName</th>\n",
       "      <th>UnitPrice</th>\n",
       "      <th>Quantity</th>\n",
       "      <th>Discount</th>\n",
       "    </tr>\n",
       "  </thead>\n",
       "  <tbody>\n",
       "    <tr>\n",
       "      <th>0</th>\n",
       "      <td>Queso Cabrales</td>\n",
       "      <td>14.0</td>\n",
       "      <td>12</td>\n",
       "      <td>0.0</td>\n",
       "    </tr>\n",
       "    <tr>\n",
       "      <th>1</th>\n",
       "      <td>Singaporean Hokkien Fried Mee</td>\n",
       "      <td>9.8</td>\n",
       "      <td>10</td>\n",
       "      <td>0.0</td>\n",
       "    </tr>\n",
       "    <tr>\n",
       "      <th>2</th>\n",
       "      <td>Mozzarella di Giovanni</td>\n",
       "      <td>34.8</td>\n",
       "      <td>5</td>\n",
       "      <td>0.0</td>\n",
       "    </tr>\n",
       "    <tr>\n",
       "      <th>3</th>\n",
       "      <td>Tofu</td>\n",
       "      <td>18.6</td>\n",
       "      <td>9</td>\n",
       "      <td>0.0</td>\n",
       "    </tr>\n",
       "    <tr>\n",
       "      <th>4</th>\n",
       "      <td>Manjimup Dried Apples</td>\n",
       "      <td>42.4</td>\n",
       "      <td>40</td>\n",
       "      <td>0.0</td>\n",
       "    </tr>\n",
       "  </tbody>\n",
       "</table>\n",
       "</div>"
      ],
      "text/plain": [
       "                     ProductName  UnitPrice  Quantity  Discount\n",
       "0                 Queso Cabrales       14.0        12       0.0\n",
       "1  Singaporean Hokkien Fried Mee        9.8        10       0.0\n",
       "2         Mozzarella di Giovanni       34.8         5       0.0\n",
       "3                           Tofu       18.6         9       0.0\n",
       "4          Manjimup Dried Apples       42.4        40       0.0"
      ]
     },
     "execution_count": 6,
     "metadata": {},
     "output_type": "execute_result"
    }
   ],
   "source": [
    "df.head()"
   ]
  },
  {
   "cell_type": "code",
   "execution_count": 7,
   "metadata": {},
   "outputs": [
    {
     "data": {
      "text/plain": [
       "77"
      ]
     },
     "execution_count": 7,
     "metadata": {},
     "output_type": "execute_result"
    }
   ],
   "source": [
    "# Check number of unique products\n",
    "df.ProductName.nunique()"
   ]
  },
  {
   "cell_type": "code",
   "execution_count": 8,
   "metadata": {},
   "outputs": [
    {
     "name": "stdout",
     "output_type": "stream",
     "text": [
      "<class 'pandas.core.frame.DataFrame'>\n",
      "RangeIndex: 2155 entries, 0 to 2154\n",
      "Data columns (total 4 columns):\n",
      "ProductName    2155 non-null object\n",
      "UnitPrice      2155 non-null float64\n",
      "Quantity       2155 non-null int64\n",
      "Discount       2155 non-null float64\n",
      "dtypes: float64(2), int64(1), object(1)\n",
      "memory usage: 67.4+ KB\n"
     ]
    }
   ],
   "source": [
    "df.info()"
   ]
  },
  {
   "cell_type": "markdown",
   "metadata": {},
   "source": [
    "Great! We have all the data we need currently but can always run a new query to get more data if we need it. Let's now get to our hypothesis testing. Our hypothesis is that discounts have no effect on the number of products customers order. Our data currently contains each order along with: \n",
    "- Name of product being ordered\n",
    "- Unit price of that product\n",
    "- Quantity of product being ordered\n",
    "- Percentage discount on that order\n",
    "\n",
    "We need to differentiate between discounted and non-discounted orders. We can do this easily with pandas slicing. We will then take a look at each populations sample statistics."
   ]
  },
  {
   "cell_type": "code",
   "execution_count": 9,
   "metadata": {},
   "outputs": [],
   "source": [
    "df_disc, df_ndisc = df.loc[df.Discount > 0], df.loc[df.Discount == 0]"
   ]
  },
  {
   "cell_type": "code",
   "execution_count": 10,
   "metadata": {},
   "outputs": [
    {
     "data": {
      "text/html": [
       "<div>\n",
       "<style scoped>\n",
       "    .dataframe tbody tr th:only-of-type {\n",
       "        vertical-align: middle;\n",
       "    }\n",
       "\n",
       "    .dataframe tbody tr th {\n",
       "        vertical-align: top;\n",
       "    }\n",
       "\n",
       "    .dataframe thead th {\n",
       "        text-align: right;\n",
       "    }\n",
       "</style>\n",
       "<table border=\"1\" class=\"dataframe\">\n",
       "  <thead>\n",
       "    <tr style=\"text-align: right;\">\n",
       "      <th></th>\n",
       "      <th>UnitPrice</th>\n",
       "      <th>Quantity</th>\n",
       "      <th>Discount</th>\n",
       "    </tr>\n",
       "  </thead>\n",
       "  <tbody>\n",
       "    <tr>\n",
       "      <th>count</th>\n",
       "      <td>838.000000</td>\n",
       "      <td>838.000000</td>\n",
       "      <td>838.000000</td>\n",
       "    </tr>\n",
       "    <tr>\n",
       "      <th>mean</th>\n",
       "      <td>26.292363</td>\n",
       "      <td>27.109785</td>\n",
       "      <td>0.144439</td>\n",
       "    </tr>\n",
       "    <tr>\n",
       "      <th>std</th>\n",
       "      <td>30.017214</td>\n",
       "      <td>20.771439</td>\n",
       "      <td>0.071808</td>\n",
       "    </tr>\n",
       "    <tr>\n",
       "      <th>min</th>\n",
       "      <td>2.000000</td>\n",
       "      <td>1.000000</td>\n",
       "      <td>0.010000</td>\n",
       "    </tr>\n",
       "    <tr>\n",
       "      <th>25%</th>\n",
       "      <td>12.500000</td>\n",
       "      <td>12.000000</td>\n",
       "      <td>0.100000</td>\n",
       "    </tr>\n",
       "    <tr>\n",
       "      <th>50%</th>\n",
       "      <td>18.000000</td>\n",
       "      <td>20.000000</td>\n",
       "      <td>0.150000</td>\n",
       "    </tr>\n",
       "    <tr>\n",
       "      <th>75%</th>\n",
       "      <td>31.230000</td>\n",
       "      <td>36.000000</td>\n",
       "      <td>0.200000</td>\n",
       "    </tr>\n",
       "    <tr>\n",
       "      <th>max</th>\n",
       "      <td>263.500000</td>\n",
       "      <td>130.000000</td>\n",
       "      <td>0.250000</td>\n",
       "    </tr>\n",
       "  </tbody>\n",
       "</table>\n",
       "</div>"
      ],
      "text/plain": [
       "        UnitPrice    Quantity    Discount\n",
       "count  838.000000  838.000000  838.000000\n",
       "mean    26.292363   27.109785    0.144439\n",
       "std     30.017214   20.771439    0.071808\n",
       "min      2.000000    1.000000    0.010000\n",
       "25%     12.500000   12.000000    0.100000\n",
       "50%     18.000000   20.000000    0.150000\n",
       "75%     31.230000   36.000000    0.200000\n",
       "max    263.500000  130.000000    0.250000"
      ]
     },
     "execution_count": 10,
     "metadata": {},
     "output_type": "execute_result"
    }
   ],
   "source": [
    "# Discounted Statistics\n",
    "df_disc.describe()"
   ]
  },
  {
   "cell_type": "code",
   "execution_count": 11,
   "metadata": {},
   "outputs": [
    {
     "data": {
      "text/html": [
       "<div>\n",
       "<style scoped>\n",
       "    .dataframe tbody tr th:only-of-type {\n",
       "        vertical-align: middle;\n",
       "    }\n",
       "\n",
       "    .dataframe tbody tr th {\n",
       "        vertical-align: top;\n",
       "    }\n",
       "\n",
       "    .dataframe thead th {\n",
       "        text-align: right;\n",
       "    }\n",
       "</style>\n",
       "<table border=\"1\" class=\"dataframe\">\n",
       "  <thead>\n",
       "    <tr style=\"text-align: right;\">\n",
       "      <th></th>\n",
       "      <th>UnitPrice</th>\n",
       "      <th>Quantity</th>\n",
       "      <th>Discount</th>\n",
       "    </tr>\n",
       "  </thead>\n",
       "  <tbody>\n",
       "    <tr>\n",
       "      <th>count</th>\n",
       "      <td>1317.000000</td>\n",
       "      <td>1317.000000</td>\n",
       "      <td>1317.0</td>\n",
       "    </tr>\n",
       "    <tr>\n",
       "      <th>mean</th>\n",
       "      <td>26.171534</td>\n",
       "      <td>21.715262</td>\n",
       "      <td>0.0</td>\n",
       "    </tr>\n",
       "    <tr>\n",
       "      <th>std</th>\n",
       "      <td>29.717354</td>\n",
       "      <td>17.507493</td>\n",
       "      <td>0.0</td>\n",
       "    </tr>\n",
       "    <tr>\n",
       "      <th>min</th>\n",
       "      <td>2.000000</td>\n",
       "      <td>1.000000</td>\n",
       "      <td>0.0</td>\n",
       "    </tr>\n",
       "    <tr>\n",
       "      <th>25%</th>\n",
       "      <td>12.000000</td>\n",
       "      <td>10.000000</td>\n",
       "      <td>0.0</td>\n",
       "    </tr>\n",
       "    <tr>\n",
       "      <th>50%</th>\n",
       "      <td>18.400000</td>\n",
       "      <td>18.000000</td>\n",
       "      <td>0.0</td>\n",
       "    </tr>\n",
       "    <tr>\n",
       "      <th>75%</th>\n",
       "      <td>32.800000</td>\n",
       "      <td>30.000000</td>\n",
       "      <td>0.0</td>\n",
       "    </tr>\n",
       "    <tr>\n",
       "      <th>max</th>\n",
       "      <td>263.500000</td>\n",
       "      <td>130.000000</td>\n",
       "      <td>0.0</td>\n",
       "    </tr>\n",
       "  </tbody>\n",
       "</table>\n",
       "</div>"
      ],
      "text/plain": [
       "         UnitPrice     Quantity  Discount\n",
       "count  1317.000000  1317.000000    1317.0\n",
       "mean     26.171534    21.715262       0.0\n",
       "std      29.717354    17.507493       0.0\n",
       "min       2.000000     1.000000       0.0\n",
       "25%      12.000000    10.000000       0.0\n",
       "50%      18.400000    18.000000       0.0\n",
       "75%      32.800000    30.000000       0.0\n",
       "max     263.500000   130.000000       0.0"
      ]
     },
     "execution_count": 11,
     "metadata": {},
     "output_type": "execute_result"
    }
   ],
   "source": [
    "# Non-discounted Statistics\n",
    "df_ndisc.describe()"
   ]
  },
  {
   "cell_type": "markdown",
   "metadata": {},
   "source": [
    "We see that discounted orders have a higher Quantity mean. However, this is not enough information to lead us to reject the null hypothesis. To get a better sense of Quantity distribution, we will extrapolate the PDF's of each population and plot them."
   ]
  },
  {
   "cell_type": "code",
   "execution_count": 100,
   "metadata": {},
   "outputs": [
    {
     "data": {
      "image/png": "[encoded data removed]",
      "text/plain": [
       "<Figure size 1080x720 with 1 Axes>"
      ]
     },
     "metadata": {
      "needs_background": "light"
     },
     "output_type": "display_data"
    }
   ],
   "source": [
    "# Plotting\n",
    "plt.figure(figsize=(15, 10))\n",
    "df_disc.Quantity.plot.kde(label='Discounted')\n",
    "df_ndisc.Quantity.plot.kde(label='Non-Discounted')\n",
    "plt.title('Discounted vs. Non-Discounted Order Quantity PDFs')\n",
    "plt.xlabel('Quantity per Order')\n",
    "plt.legend()\n",
    "plt.savefig('disc.png')\n",
    "plt.show()"
   ]
  },
  {
   "cell_type": "markdown",
   "metadata": {},
   "source": [
    "It's beginning to look like discounted orders have a slightly different distribution than non-discounted orders. We still need to validate this, so let's formerly phrase our hypothesis test. Let A represent the Quantity population of discounted orders and let B represent the Quantity population of non-discounted orders. \n",
    "\n",
    "Null Hypothesis ($H_0$):\n",
    "\n",
    "$$\\mu_A = \\mu_B$$\n",
    "\n",
    "Alternative Hypothesis ($H_1$):\n",
    "\n",
    "$$\\mu_A > \\mu_B$$\n",
    "\n",
    "where $\\mu_i$ represents the mean of population i. Notice that this represents a one-sided test since we only care if discounts increase order quantity. To implement our hypothesis test, we will use scipy's ttest_ind function and divide our alpha value by two. We will assume that discounted orders and non-discounted orders are independent samples. Furthermore, we will note that these distributions have unequal variance as this will affect our hypothesis test."
   ]
  },
  {
   "cell_type": "code",
   "execution_count": 13,
   "metadata": {},
   "outputs": [
    {
     "name": "stdout",
     "output_type": "stream",
     "text": [
      "Reject null hypothesis, mean of Discounted is greater than mean of Non-Discounted\n"
     ]
    }
   ],
   "source": [
    "import scipy.stats as stats\n",
    "\n",
    "# Get two-sample ttest\n",
    "results = stats.ttest_ind(df_disc.Quantity, df_ndisc.Quantity, equal_var=False)\n",
    "\n",
    "# pvalue <<< 0.05 reject null hypothesis, quantity mean of Discounted is greater than that of Non-discounted\n",
    "alpha = 0.05\n",
    "if (results[0] > 0) & (results[1]/2 < alpha):\n",
    "    print(\"Reject null hypothesis, mean of Discounted is greater than mean of Non-Discounted\")\n",
    "else:\n",
    "    print(\"Accept null hypothesis\")"
   ]
  },
  {
   "cell_type": "markdown",
   "metadata": {},
   "source": [
    "Looks like we have a statistically significant difference in population means. Let's see what our t-statistic and p-value actually were."
   ]
  },
  {
   "cell_type": "code",
   "execution_count": 14,
   "metadata": {},
   "outputs": [
    {
     "data": {
      "text/plain": [
       "Ttest_indResult(statistic=6.239069142123973, pvalue=5.65641429030433e-10)"
      ]
     },
     "execution_count": 14,
     "metadata": {},
     "output_type": "execute_result"
    }
   ],
   "source": [
    "results"
   ]
  },
  {
   "cell_type": "markdown",
   "metadata": {},
   "source": [
    "Our p-value is very small and our t-statistic is very high - we can affirm with high confidence that these population means are not equal and that in fact discounted orders are on average larger in quantity. Recall that we separated populations based on any discount >0 being different from any order with discount=0."
   ]
  },
  {
   "cell_type": "markdown",
   "metadata": {},
   "source": [
    "Let's now consider the monetary affect of discounts. Instead of just looking at quantity, we will generate a new column called 'Revenue' such that \n",
    "$$ Revenue = Quantity * Unit Price * (1 - Discount) $$\n",
    "and perform a t-test using this new metric. This will tell us if Discounts are financially an advantageous strategy. First we will consider a >0 / =0 split as before and then look at different discount thresholds."
   ]
  },
  {
   "cell_type": "code",
   "execution_count": 16,
   "metadata": {},
   "outputs": [
    {
     "name": "stderr",
     "output_type": "stream",
     "text": [
      "C:\\Users\\caputr\\anaconda3\\envs\\learn-env\\lib\\site-packages\\ipykernel_launcher.py:1: SettingWithCopyWarning: \n",
      "A value is trying to be set on a copy of a slice from a DataFrame.\n",
      "Try using .loc[row_indexer,col_indexer] = value instead\n",
      "\n",
      "See the caveats in the documentation: http://pandas.pydata.org/pandas-docs/stable/indexing.html#indexing-view-versus-copy\n",
      "  \"\"\"Entry point for launching an IPython kernel.\n",
      "C:\\Users\\caputr\\anaconda3\\envs\\learn-env\\lib\\site-packages\\ipykernel_launcher.py:2: SettingWithCopyWarning: \n",
      "A value is trying to be set on a copy of a slice from a DataFrame.\n",
      "Try using .loc[row_indexer,col_indexer] = value instead\n",
      "\n",
      "See the caveats in the documentation: http://pandas.pydata.org/pandas-docs/stable/indexing.html#indexing-view-versus-copy\n",
      "  \n"
     ]
    }
   ],
   "source": [
    "df_disc['Revenue'] = df_disc.Quantity * df_disc.UnitPrice * (1 - df_disc.Discount)\n",
    "df_ndisc['Revenue'] = df_ndisc.Quantity * df_ndisc.UnitPrice * (1 - df_ndisc.Discount)"
   ]
  },
  {
   "cell_type": "markdown",
   "metadata": {},
   "source": [
    "We will now look at the sample statistics of these distributions and plot their KDE's. From there we will perform a similar t-test as before!"
   ]
  },
  {
   "cell_type": "code",
   "execution_count": 17,
   "metadata": {},
   "outputs": [
    {
     "data": {
      "image/png": "[encoded data removed]",
      "text/plain": [
       "<Figure size 1080x720 with 1 Axes>"
      ]
     },
     "metadata": {
      "needs_background": "light"
     },
     "output_type": "display_data"
    }
   ],
   "source": [
    "# Plotting\n",
    "plt.figure(figsize=(15, 10))\n",
    "df_disc.Revenue.plot.kde(label='Discounted')\n",
    "df_ndisc.Revenue.plot.kde(label='Non-Discounted')\n",
    "plt.title('Discounted vs. Non-Discounted Order Revenue PDFs')\n",
    "plt.xlabel('Revenue per Order')\n",
    "plt.legend()\n",
    "plt.show()"
   ]
  },
  {
   "cell_type": "markdown",
   "metadata": {},
   "source": [
    "Due to the large tails of the Revenue distribution, it is difficult to gain any insight from the above plot. Let's look at the sample statistics of each distribution."
   ]
  },
  {
   "cell_type": "code",
   "execution_count": 18,
   "metadata": {},
   "outputs": [
    {
     "data": {
      "text/plain": [
       "count      838.000000\n",
       "mean       614.671157\n",
       "std        981.388386\n",
       "min          8.500000\n",
       "25%        162.000000\n",
       "50%        347.775000\n",
       "75%        693.600000\n",
       "max      15019.500000\n",
       "Name: Revenue, dtype: float64"
      ]
     },
     "execution_count": 18,
     "metadata": {},
     "output_type": "execute_result"
    }
   ],
   "source": [
    "df_disc.Revenue.describe()"
   ]
  },
  {
   "cell_type": "code",
   "execution_count": 19,
   "metadata": {},
   "outputs": [
    {
     "data": {
      "text/plain": [
       "count     1317.000000\n",
       "mean       570.006538\n",
       "std        961.375030\n",
       "min          4.800000\n",
       "25%        142.500000\n",
       "50%        325.000000\n",
       "75%        640.000000\n",
       "max      15810.000000\n",
       "Name: Revenue, dtype: float64"
      ]
     },
     "execution_count": 19,
     "metadata": {},
     "output_type": "execute_result"
    }
   ],
   "source": [
    "df_ndisc.Revenue.describe()"
   ]
  },
  {
   "cell_type": "markdown",
   "metadata": {},
   "source": [
    "It seems that revenue is larger for discounted orders on average. Let's finally perform a one-sided t-test to confirm if this difference is statistically significant."
   ]
  },
  {
   "cell_type": "code",
   "execution_count": 20,
   "metadata": {},
   "outputs": [
    {
     "name": "stdout",
     "output_type": "stream",
     "text": [
      "Accept null hypothesis\n"
     ]
    }
   ],
   "source": [
    "# Get two-sample ttest\n",
    "results = stats.ttest_ind(df_disc.Revenue, df_ndisc.Revenue, equal_var=False)\n",
    "\n",
    "# pvalue <<< 0.05 reject null hypothesis, quantity mean of Discounted is greater than that of Non-discounted\n",
    "alpha = 0.05\n",
    "if (results[0] > 0) & (results[1]/2 < alpha):\n",
    "    print(\"Reject null hypothesis, mean of Discounted is greater than mean of Non-Discounted\")\n",
    "else:\n",
    "    print(\"Accept null hypothesis\")"
   ]
  },
  {
   "cell_type": "markdown",
   "metadata": {},
   "source": [
    "It seems that this difference is not statistically significant at the 0.05 level. Let's take a look at our results."
   ]
  },
  {
   "cell_type": "code",
   "execution_count": 21,
   "metadata": {},
   "outputs": [
    {
     "data": {
      "text/plain": [
       "Ttest_indResult(statistic=1.0381255545690475, pvalue=0.2993546075168257)"
      ]
     },
     "execution_count": 21,
     "metadata": {},
     "output_type": "execute_result"
    }
   ],
   "source": [
    "results"
   ]
  },
  {
   "cell_type": "markdown",
   "metadata": {},
   "source": [
    "In fact, our results have quite a high p-value. It seems that although discounts provide a statistically significant affect on order quantity, they do not have a statistically significant affect on Revenue. Let's see if discount size has any affect. First, we will examine revenue as a function of discount"
   ]
  },
  {
   "cell_type": "code",
   "execution_count": 22,
   "metadata": {},
   "outputs": [
    {
     "data": {
      "text/plain": [
       "Discount\n",
       "0.00    1317\n",
       "0.01       1\n",
       "0.02       2\n",
       "0.03       3\n",
       "0.04       1\n",
       "0.05     185\n",
       "0.06       1\n",
       "0.10     173\n",
       "0.15     157\n",
       "0.20     161\n",
       "0.25     154\n",
       "Name: Revenue, dtype: int64"
      ]
     },
     "execution_count": 22,
     "metadata": {},
     "output_type": "execute_result"
    }
   ],
   "source": [
    "df['Revenue'] = df.Quantity * df.UnitPrice * (1 - df.Discount)\n",
    "df.groupby('Discount').Revenue.count()"
   ]
  },
  {
   "cell_type": "markdown",
   "metadata": {},
   "source": [
    "Given that certain discounts are uncommon, let's make a split at the discount = 0.1 level."
   ]
  },
  {
   "cell_type": "code",
   "execution_count": 23,
   "metadata": {},
   "outputs": [],
   "source": [
    "df_disc, df_ndisc = df.loc[df.Discount >= 0.1], df.loc[df.Discount < 0.1]"
   ]
  },
  {
   "cell_type": "code",
   "execution_count": 24,
   "metadata": {},
   "outputs": [
    {
     "name": "stdout",
     "output_type": "stream",
     "text": [
      "Accept null hypothesis\n"
     ]
    }
   ],
   "source": [
    "# Get two-sample ttest\n",
    "results = stats.ttest_ind(df_disc.Revenue, df_ndisc.Revenue, equal_var=False)\n",
    "\n",
    "# pvalue <<< 0.05 reject null hypothesis, quantity mean of Discounted is greater than that of Non-discounted\n",
    "alpha = 0.05\n",
    "if (results[0] > 0) & (results[1]/2 < alpha):\n",
    "    print(\"Reject null hypothesis, mean of Discounted is greater than mean of Non-Discounted\")\n",
    "else:\n",
    "    print(\"Accept null hypothesis\")"
   ]
  },
  {
   "cell_type": "code",
   "execution_count": 25,
   "metadata": {},
   "outputs": [
    {
     "data": {
      "text/plain": [
       "Ttest_indResult(statistic=-0.6284830250070176, pvalue=0.5297804753579476)"
      ]
     },
     "execution_count": 25,
     "metadata": {},
     "output_type": "execute_result"
    }
   ],
   "source": [
    "results"
   ]
  },
  {
   "cell_type": "markdown",
   "metadata": {},
   "source": [
    "Indeed, increasing discount threshold did not give us a statistically significant result. This result will be important to make clear to stakeholders.\n",
    "\n",
    "Next, we will consider some other important business questions about our database. We will think of a result that would allow us to make a significant business impact. Our next question will be \n",
    "**Do different shippers have a statistically significant greater freight cost?** \n",
    "\n",
    "First, we will load our data."
   ]
  },
  {
   "cell_type": "code",
   "execution_count": 26,
   "metadata": {},
   "outputs": [
    {
     "name": "stdout",
     "output_type": "stream",
     "text": [
      "['Id', 'CompanyName', 'Phone']\n",
      "['Id', 'CustomerId', 'EmployeeId', 'OrderDate', 'RequiredDate', 'ShippedDate', 'ShipVia', 'Freight', 'ShipName', 'ShipAddress', 'ShipCity', 'ShipRegion', 'ShipPostalCode', 'ShipCountry']\n"
     ]
    }
   ],
   "source": [
    "# Check column names\n",
    "print([x['name'] for x in inspector.get_columns('Shipper')])\n",
    "print([x['name'] for x in inspector.get_columns('Order')])"
   ]
  },
  {
   "cell_type": "code",
   "execution_count": 38,
   "metadata": {},
   "outputs": [],
   "source": [
    "query = \"\"\"\n",
    "SELECT \n",
    "    s.CompanyName, o.Freight\n",
    "FROM \n",
    "    [Shipper] s\n",
    "    JOIN\n",
    "    [Order] o\n",
    "    ON \n",
    "    o.ShipVia = s.Id\n",
    "\"\"\"\n",
    "ship_df = pd.read_sql_query(query, engine) "
   ]
  },
  {
   "cell_type": "code",
   "execution_count": 39,
   "metadata": {},
   "outputs": [
    {
     "data": {
      "text/html": [
       "<div>\n",
       "<style scoped>\n",
       "    .dataframe tbody tr th:only-of-type {\n",
       "        vertical-align: middle;\n",
       "    }\n",
       "\n",
       "    .dataframe tbody tr th {\n",
       "        vertical-align: top;\n",
       "    }\n",
       "\n",
       "    .dataframe thead th {\n",
       "        text-align: right;\n",
       "    }\n",
       "</style>\n",
       "<table border=\"1\" class=\"dataframe\">\n",
       "  <thead>\n",
       "    <tr style=\"text-align: right;\">\n",
       "      <th></th>\n",
       "      <th>CompanyName</th>\n",
       "      <th>Freight</th>\n",
       "    </tr>\n",
       "  </thead>\n",
       "  <tbody>\n",
       "    <tr>\n",
       "      <th>0</th>\n",
       "      <td>Federal Shipping</td>\n",
       "      <td>32.38</td>\n",
       "    </tr>\n",
       "    <tr>\n",
       "      <th>1</th>\n",
       "      <td>Speedy Express</td>\n",
       "      <td>11.61</td>\n",
       "    </tr>\n",
       "    <tr>\n",
       "      <th>2</th>\n",
       "      <td>United Package</td>\n",
       "      <td>65.83</td>\n",
       "    </tr>\n",
       "    <tr>\n",
       "      <th>3</th>\n",
       "      <td>Speedy Express</td>\n",
       "      <td>41.34</td>\n",
       "    </tr>\n",
       "    <tr>\n",
       "      <th>4</th>\n",
       "      <td>United Package</td>\n",
       "      <td>51.30</td>\n",
       "    </tr>\n",
       "    <tr>\n",
       "      <th>5</th>\n",
       "      <td>United Package</td>\n",
       "      <td>58.17</td>\n",
       "    </tr>\n",
       "    <tr>\n",
       "      <th>6</th>\n",
       "      <td>United Package</td>\n",
       "      <td>22.98</td>\n",
       "    </tr>\n",
       "    <tr>\n",
       "      <th>7</th>\n",
       "      <td>Federal Shipping</td>\n",
       "      <td>148.33</td>\n",
       "    </tr>\n",
       "    <tr>\n",
       "      <th>8</th>\n",
       "      <td>United Package</td>\n",
       "      <td>13.97</td>\n",
       "    </tr>\n",
       "    <tr>\n",
       "      <th>9</th>\n",
       "      <td>Federal Shipping</td>\n",
       "      <td>81.91</td>\n",
       "    </tr>\n",
       "  </tbody>\n",
       "</table>\n",
       "</div>"
      ],
      "text/plain": [
       "        CompanyName  Freight\n",
       "0  Federal Shipping    32.38\n",
       "1    Speedy Express    11.61\n",
       "2    United Package    65.83\n",
       "3    Speedy Express    41.34\n",
       "4    United Package    51.30\n",
       "5    United Package    58.17\n",
       "6    United Package    22.98\n",
       "7  Federal Shipping   148.33\n",
       "8    United Package    13.97\n",
       "9  Federal Shipping    81.91"
      ]
     },
     "execution_count": 39,
     "metadata": {},
     "output_type": "execute_result"
    }
   ],
   "source": [
    "ship_df.head(10)"
   ]
  },
  {
   "cell_type": "code",
   "execution_count": 40,
   "metadata": {},
   "outputs": [],
   "source": [
    "# Get separate\n",
    "fed_df = ship_df.loc[ship_df.CompanyName == 'Federal Shipping']\n",
    "speed_df = ship_df.loc[ship_df.CompanyName == 'Speedy Express']\n",
    "united_df = ship_df.loc[ship_df.CompanyName == 'United Package']"
   ]
  },
  {
   "cell_type": "code",
   "execution_count": 46,
   "metadata": {},
   "outputs": [
    {
     "data": {
      "text/html": [
       "<div>\n",
       "<style scoped>\n",
       "    .dataframe tbody tr th:only-of-type {\n",
       "        vertical-align: middle;\n",
       "    }\n",
       "\n",
       "    .dataframe tbody tr th {\n",
       "        vertical-align: top;\n",
       "    }\n",
       "\n",
       "    .dataframe thead tr th {\n",
       "        text-align: left;\n",
       "    }\n",
       "\n",
       "    .dataframe thead tr:last-of-type th {\n",
       "        text-align: right;\n",
       "    }\n",
       "</style>\n",
       "<table border=\"1\" class=\"dataframe\">\n",
       "  <thead>\n",
       "    <tr>\n",
       "      <th></th>\n",
       "      <th colspan=\"8\" halign=\"left\">Freight</th>\n",
       "    </tr>\n",
       "    <tr>\n",
       "      <th></th>\n",
       "      <th>count</th>\n",
       "      <th>mean</th>\n",
       "      <th>std</th>\n",
       "      <th>min</th>\n",
       "      <th>25%</th>\n",
       "      <th>50%</th>\n",
       "      <th>75%</th>\n",
       "      <th>max</th>\n",
       "    </tr>\n",
       "    <tr>\n",
       "      <th>CompanyName</th>\n",
       "      <th></th>\n",
       "      <th></th>\n",
       "      <th></th>\n",
       "      <th></th>\n",
       "      <th></th>\n",
       "      <th></th>\n",
       "      <th></th>\n",
       "      <th></th>\n",
       "    </tr>\n",
       "  </thead>\n",
       "  <tbody>\n",
       "    <tr>\n",
       "      <th>Federal Shipping</th>\n",
       "      <td>255.0</td>\n",
       "      <td>80.441216</td>\n",
       "      <td>119.362844</td>\n",
       "      <td>0.40</td>\n",
       "      <td>12.86</td>\n",
       "      <td>36.710</td>\n",
       "      <td>99.49</td>\n",
       "      <td>1007.64</td>\n",
       "    </tr>\n",
       "    <tr>\n",
       "      <th>Speedy Express</th>\n",
       "      <td>249.0</td>\n",
       "      <td>65.001325</td>\n",
       "      <td>75.393587</td>\n",
       "      <td>0.12</td>\n",
       "      <td>12.75</td>\n",
       "      <td>40.420</td>\n",
       "      <td>89.90</td>\n",
       "      <td>458.78</td>\n",
       "    </tr>\n",
       "    <tr>\n",
       "      <th>United Package</th>\n",
       "      <td>326.0</td>\n",
       "      <td>86.640644</td>\n",
       "      <td>138.219262</td>\n",
       "      <td>0.02</td>\n",
       "      <td>14.04</td>\n",
       "      <td>44.135</td>\n",
       "      <td>91.43</td>\n",
       "      <td>890.78</td>\n",
       "    </tr>\n",
       "  </tbody>\n",
       "</table>\n",
       "</div>"
      ],
      "text/plain": [
       "                 Freight                                                     \\\n",
       "                   count       mean         std   min    25%     50%    75%   \n",
       "CompanyName                                                                   \n",
       "Federal Shipping   255.0  80.441216  119.362844  0.40  12.86  36.710  99.49   \n",
       "Speedy Express     249.0  65.001325   75.393587  0.12  12.75  40.420  89.90   \n",
       "United Package     326.0  86.640644  138.219262  0.02  14.04  44.135  91.43   \n",
       "\n",
       "                           \n",
       "                      max  \n",
       "CompanyName                \n",
       "Federal Shipping  1007.64  \n",
       "Speedy Express     458.78  \n",
       "United Package     890.78  "
      ]
     },
     "execution_count": 46,
     "metadata": {},
     "output_type": "execute_result"
    }
   ],
   "source": [
    "# Get sample statistics\n",
    "ship_df.groupby('CompanyName').describe()"
   ]
  },
  {
   "cell_type": "code",
   "execution_count": 104,
   "metadata": {},
   "outputs": [
    {
     "data": {
      "image/png": "[encoded data removed]",
      "text/plain": [
       "<Figure size 1080x720 with 1 Axes>"
      ]
     },
     "metadata": {
      "needs_background": "light"
     },
     "output_type": "display_data"
    }
   ],
   "source": [
    "# Plotting\n",
    "plt.figure(figsize=(15, 10))\n",
    "fed_df.Freight.plot.kde(label='Federal Shipping')\n",
    "speed_df.Freight.plot.kde(label='Speedy Express')\n",
    "united_df.Freight.plot.kde(label='United Package')\n",
    "plt.title('Shipper Freight PDFs')\n",
    "plt.xlabel('Freight Cost')\n",
    "plt.legend()\n",
    "plt.savefig('freight.png')\n",
    "plt.show()"
   ]
  },
  {
   "cell_type": "markdown",
   "metadata": {},
   "source": [
    "It is difficult to say whether these samples come from different distributions. Let's conduct an ANOVA test with the null hypothesis that 2 or more groups have the same population mean."
   ]
  },
  {
   "cell_type": "code",
   "execution_count": 43,
   "metadata": {},
   "outputs": [],
   "source": [
    "from scipy import stats\n",
    "\n",
    "# ANOVA F-test\n",
    "F, p = stats.f_oneway(fed_df.Freight, speed_df.Freight, united_df.Freight)"
   ]
  },
  {
   "cell_type": "code",
   "execution_count": 44,
   "metadata": {},
   "outputs": [
    {
     "data": {
      "text/plain": [
       "(2.49781040377206, 0.08288539205995446)"
      ]
     },
     "execution_count": 44,
     "metadata": {},
     "output_type": "execute_result"
    }
   ],
   "source": [
    "F, p"
   ]
  },
  {
   "cell_type": "markdown",
   "metadata": {},
   "source": [
    "Although the p-value is low, it is not below the 0.05 threshold. However, this test makes some assumptions:\n",
    "- The samples are independent\n",
    "- Each sample is from a normally distributed population\n",
    "- The population standard deviations are equal\n",
    "\n",
    "We see using our groupby above that each standard deviation is quite different. Additionally, these distributions are most likely not normally distributed. Therefore, we need to do some further analysis.\n",
    "\n",
    "We see using our describe function that Speedy Express has quite a lower mean than the other two shippers. Let's compare this population mean with individual t-tests against the other distributions. We have that\n",
    "Null Hypothesis ($H_0$):\n",
    "\n",
    "$$\\mu_A = \\mu_B$$\n",
    "\n",
    "Alternative Hypothesis ($H_1$):\n",
    "\n",
    "$$\\mu_A < \\mu_B$$\n",
    "\n",
    "where A represents speedy express and B represents the other two distributers."
   ]
  },
  {
   "cell_type": "code",
   "execution_count": 55,
   "metadata": {},
   "outputs": [
    {
     "name": "stdout",
     "output_type": "stream",
     "text": [
      "Reject null hypothesis, mean of Speedy Express is less than than mean of Federal Shipping\n",
      "Reject null hypothesis, mean of Speedy Express is less than than mean of United Package\n"
     ]
    }
   ],
   "source": [
    "# T Tests for Speedy Express\n",
    "for data in [fed_df, united_df]:\n",
    "    results = stats.ttest_ind(speed_df.Freight, data.Freight, equal_var=False)\n",
    "    alpha = 0.05\n",
    "    if (results[0] < 0) & (results[1]/2 < alpha):\n",
    "        print(f\"Reject null hypothesis, mean of Speedy Express is less than than mean of {data.CompanyName.iloc[0]}\")\n",
    "    else:\n",
    "        print(f\"Accept null hypothesis ({data.CompanyName.iloc[0]})\")"
   ]
  },
  {
   "cell_type": "markdown",
   "metadata": {},
   "source": [
    "It seems that Speedy Express has statistically significant lower freight costs than the other two shippers. Let's now compare Federal shipping with the other two."
   ]
  },
  {
   "cell_type": "code",
   "execution_count": 56,
   "metadata": {},
   "outputs": [
    {
     "name": "stdout",
     "output_type": "stream",
     "text": [
      "Accept null hypothesis (Speedy Express)\n",
      "Accept null hypothesis (United Package)\n"
     ]
    }
   ],
   "source": [
    "# T Tests for Federal Shipping\n",
    "for data in [speed_df, united_df]:\n",
    "    results = stats.ttest_ind(fed_df.Freight, data.Freight, equal_var=False)\n",
    "    alpha = 0.05\n",
    "    if (results[0] < 0) & (results[1]/2 < alpha):\n",
    "        print(f\"Reject null hypothesis, mean of Speedy Express is less than than mean of {data.CompanyName.iloc[0]}\")\n",
    "    else:\n",
    "        print(f\"Accept null hypothesis ({data.CompanyName.iloc[0]})\")"
   ]
  },
  {
   "cell_type": "markdown",
   "metadata": {},
   "source": [
    "Here, we see that Federal shipping does not have statistically lower means than the other two. For speedy shipping this was clear, but for united package this was less clear. A final step could be checking whether United Package has a statistically significant greater mean than the other two."
   ]
  },
  {
   "cell_type": "code",
   "execution_count": 59,
   "metadata": {},
   "outputs": [
    {
     "name": "stdout",
     "output_type": "stream",
     "text": [
      "Reject null hypothesis, mean of Speedy Express is greater than than mean of Speedy Express\n",
      "Accept null hypothesis (Federal Shipping)\n"
     ]
    }
   ],
   "source": [
    "# T Tests for United Package\n",
    "for data in [speed_df, fed_df]:\n",
    "    results = stats.ttest_ind(united_df.Freight, data.Freight, equal_var=False)\n",
    "    alpha = 0.05\n",
    "    if (results[0] > 0) & (results[1]/2 < alpha):\n",
    "        print(f\"Reject null hypothesis, mean of Speedy Express is greater than than mean of {data.CompanyName.iloc[0]}\")\n",
    "    else:\n",
    "        print(f\"Accept null hypothesis ({data.CompanyName.iloc[0]})\")"
   ]
  },
  {
   "cell_type": "markdown",
   "metadata": {},
   "source": [
    "The results are in - speedy express has statistically significant lower costs than the other two shippers. Of course, it could be that Speedy Express has lower quality shipping than the other two, but this is difficult to gather information on given our data. A final question that could help us determine this is **Do Shippers have a statistically significant impact on Revenue - Freight Cost?** By answering this, we can determine if it is really worth switching entirely to Speedy Express as a sole shipper. We will call our new column 'Profit' although we are not factoring in any other cost but freight. Note that\n",
    "\n",
    "$$ Profit = Quantity * Unit Price * (1 - Discount) - Freight$$\n",
    "\n",
    "First, we need to get our data. This will be a join of the first and second queries."
   ]
  },
  {
   "cell_type": "code",
   "execution_count": 67,
   "metadata": {},
   "outputs": [],
   "source": [
    "# Query relevant columns\n",
    "query = \"\"\"\n",
    "SELECT \n",
    "    od.UnitPrice, \n",
    "    od.Quantity, \n",
    "    od.Discount, \n",
    "    o.Freight,\n",
    "    s.CompanyName\n",
    "FROM \n",
    "    [Product] p\n",
    "    JOIN\n",
    "    [OrderDetail] od\n",
    "    ON \n",
    "    p.Id = od.ProductId\n",
    "    JOIN \n",
    "    [Order] o\n",
    "    ON\n",
    "    od.OrderId = o.Id \n",
    "    JOIN\n",
    "    [Shipper] s\n",
    "    ON\n",
    "    o.ShipVia = s.Id\n",
    "\"\"\"\n",
    "df = pd.read_sql_query(query, engine)"
   ]
  },
  {
   "cell_type": "code",
   "execution_count": 68,
   "metadata": {},
   "outputs": [
    {
     "data": {
      "text/html": [
       "<div>\n",
       "<style scoped>\n",
       "    .dataframe tbody tr th:only-of-type {\n",
       "        vertical-align: middle;\n",
       "    }\n",
       "\n",
       "    .dataframe tbody tr th {\n",
       "        vertical-align: top;\n",
       "    }\n",
       "\n",
       "    .dataframe thead th {\n",
       "        text-align: right;\n",
       "    }\n",
       "</style>\n",
       "<table border=\"1\" class=\"dataframe\">\n",
       "  <thead>\n",
       "    <tr style=\"text-align: right;\">\n",
       "      <th></th>\n",
       "      <th>UnitPrice</th>\n",
       "      <th>Quantity</th>\n",
       "      <th>Discount</th>\n",
       "      <th>Freight</th>\n",
       "      <th>CompanyName</th>\n",
       "    </tr>\n",
       "  </thead>\n",
       "  <tbody>\n",
       "    <tr>\n",
       "      <th>0</th>\n",
       "      <td>14.0</td>\n",
       "      <td>12</td>\n",
       "      <td>0.00</td>\n",
       "      <td>32.38</td>\n",
       "      <td>Federal Shipping</td>\n",
       "    </tr>\n",
       "    <tr>\n",
       "      <th>1</th>\n",
       "      <td>9.8</td>\n",
       "      <td>10</td>\n",
       "      <td>0.00</td>\n",
       "      <td>32.38</td>\n",
       "      <td>Federal Shipping</td>\n",
       "    </tr>\n",
       "    <tr>\n",
       "      <th>2</th>\n",
       "      <td>34.8</td>\n",
       "      <td>5</td>\n",
       "      <td>0.00</td>\n",
       "      <td>32.38</td>\n",
       "      <td>Federal Shipping</td>\n",
       "    </tr>\n",
       "    <tr>\n",
       "      <th>3</th>\n",
       "      <td>18.6</td>\n",
       "      <td>9</td>\n",
       "      <td>0.00</td>\n",
       "      <td>11.61</td>\n",
       "      <td>Speedy Express</td>\n",
       "    </tr>\n",
       "    <tr>\n",
       "      <th>4</th>\n",
       "      <td>42.4</td>\n",
       "      <td>40</td>\n",
       "      <td>0.00</td>\n",
       "      <td>11.61</td>\n",
       "      <td>Speedy Express</td>\n",
       "    </tr>\n",
       "    <tr>\n",
       "      <th>5</th>\n",
       "      <td>7.7</td>\n",
       "      <td>10</td>\n",
       "      <td>0.00</td>\n",
       "      <td>65.83</td>\n",
       "      <td>United Package</td>\n",
       "    </tr>\n",
       "    <tr>\n",
       "      <th>6</th>\n",
       "      <td>42.4</td>\n",
       "      <td>35</td>\n",
       "      <td>0.15</td>\n",
       "      <td>65.83</td>\n",
       "      <td>United Package</td>\n",
       "    </tr>\n",
       "    <tr>\n",
       "      <th>7</th>\n",
       "      <td>16.8</td>\n",
       "      <td>15</td>\n",
       "      <td>0.15</td>\n",
       "      <td>65.83</td>\n",
       "      <td>United Package</td>\n",
       "    </tr>\n",
       "    <tr>\n",
       "      <th>8</th>\n",
       "      <td>16.8</td>\n",
       "      <td>6</td>\n",
       "      <td>0.05</td>\n",
       "      <td>41.34</td>\n",
       "      <td>Speedy Express</td>\n",
       "    </tr>\n",
       "    <tr>\n",
       "      <th>9</th>\n",
       "      <td>15.6</td>\n",
       "      <td>15</td>\n",
       "      <td>0.05</td>\n",
       "      <td>41.34</td>\n",
       "      <td>Speedy Express</td>\n",
       "    </tr>\n",
       "  </tbody>\n",
       "</table>\n",
       "</div>"
      ],
      "text/plain": [
       "   UnitPrice  Quantity  Discount  Freight       CompanyName\n",
       "0       14.0        12      0.00    32.38  Federal Shipping\n",
       "1        9.8        10      0.00    32.38  Federal Shipping\n",
       "2       34.8         5      0.00    32.38  Federal Shipping\n",
       "3       18.6         9      0.00    11.61    Speedy Express\n",
       "4       42.4        40      0.00    11.61    Speedy Express\n",
       "5        7.7        10      0.00    65.83    United Package\n",
       "6       42.4        35      0.15    65.83    United Package\n",
       "7       16.8        15      0.15    65.83    United Package\n",
       "8       16.8         6      0.05    41.34    Speedy Express\n",
       "9       15.6        15      0.05    41.34    Speedy Express"
      ]
     },
     "execution_count": 68,
     "metadata": {},
     "output_type": "execute_result"
    }
   ],
   "source": [
    "df.head(10)"
   ]
  },
  {
   "cell_type": "code",
   "execution_count": 69,
   "metadata": {},
   "outputs": [
    {
     "data": {
      "text/html": [
       "<div>\n",
       "<style scoped>\n",
       "    .dataframe tbody tr th:only-of-type {\n",
       "        vertical-align: middle;\n",
       "    }\n",
       "\n",
       "    .dataframe tbody tr th {\n",
       "        vertical-align: top;\n",
       "    }\n",
       "\n",
       "    .dataframe thead th {\n",
       "        text-align: right;\n",
       "    }\n",
       "</style>\n",
       "<table border=\"1\" class=\"dataframe\">\n",
       "  <thead>\n",
       "    <tr style=\"text-align: right;\">\n",
       "      <th></th>\n",
       "      <th>UnitPrice</th>\n",
       "      <th>Quantity</th>\n",
       "      <th>Discount</th>\n",
       "      <th>Freight</th>\n",
       "      <th>CompanyName</th>\n",
       "      <th>Profit</th>\n",
       "    </tr>\n",
       "  </thead>\n",
       "  <tbody>\n",
       "    <tr>\n",
       "      <th>0</th>\n",
       "      <td>14.0</td>\n",
       "      <td>12</td>\n",
       "      <td>0.0</td>\n",
       "      <td>32.38</td>\n",
       "      <td>Federal Shipping</td>\n",
       "      <td>135.62</td>\n",
       "    </tr>\n",
       "    <tr>\n",
       "      <th>1</th>\n",
       "      <td>9.8</td>\n",
       "      <td>10</td>\n",
       "      <td>0.0</td>\n",
       "      <td>32.38</td>\n",
       "      <td>Federal Shipping</td>\n",
       "      <td>65.62</td>\n",
       "    </tr>\n",
       "    <tr>\n",
       "      <th>2</th>\n",
       "      <td>34.8</td>\n",
       "      <td>5</td>\n",
       "      <td>0.0</td>\n",
       "      <td>32.38</td>\n",
       "      <td>Federal Shipping</td>\n",
       "      <td>141.62</td>\n",
       "    </tr>\n",
       "    <tr>\n",
       "      <th>3</th>\n",
       "      <td>18.6</td>\n",
       "      <td>9</td>\n",
       "      <td>0.0</td>\n",
       "      <td>11.61</td>\n",
       "      <td>Speedy Express</td>\n",
       "      <td>155.79</td>\n",
       "    </tr>\n",
       "    <tr>\n",
       "      <th>4</th>\n",
       "      <td>42.4</td>\n",
       "      <td>40</td>\n",
       "      <td>0.0</td>\n",
       "      <td>11.61</td>\n",
       "      <td>Speedy Express</td>\n",
       "      <td>1684.39</td>\n",
       "    </tr>\n",
       "  </tbody>\n",
       "</table>\n",
       "</div>"
      ],
      "text/plain": [
       "   UnitPrice  Quantity  Discount  Freight       CompanyName   Profit\n",
       "0       14.0        12       0.0    32.38  Federal Shipping   135.62\n",
       "1        9.8        10       0.0    32.38  Federal Shipping    65.62\n",
       "2       34.8         5       0.0    32.38  Federal Shipping   141.62\n",
       "3       18.6         9       0.0    11.61    Speedy Express   155.79\n",
       "4       42.4        40       0.0    11.61    Speedy Express  1684.39"
      ]
     },
     "execution_count": 69,
     "metadata": {},
     "output_type": "execute_result"
    }
   ],
   "source": [
    "# Get Profit column\n",
    "df['Profit'] = df.UnitPrice*df.Quantity*(1-df.Discount) - df.Freight\n",
    "df.head()"
   ]
  },
  {
   "cell_type": "code",
   "execution_count": 71,
   "metadata": {},
   "outputs": [
    {
     "data": {
      "text/html": [
       "<div>\n",
       "<style scoped>\n",
       "    .dataframe tbody tr th:only-of-type {\n",
       "        vertical-align: middle;\n",
       "    }\n",
       "\n",
       "    .dataframe tbody tr th {\n",
       "        vertical-align: top;\n",
       "    }\n",
       "\n",
       "    .dataframe thead th {\n",
       "        text-align: right;\n",
       "    }\n",
       "</style>\n",
       "<table border=\"1\" class=\"dataframe\">\n",
       "  <thead>\n",
       "    <tr style=\"text-align: right;\">\n",
       "      <th></th>\n",
       "      <th>count</th>\n",
       "      <th>mean</th>\n",
       "      <th>std</th>\n",
       "      <th>min</th>\n",
       "      <th>25%</th>\n",
       "      <th>50%</th>\n",
       "      <th>75%</th>\n",
       "      <th>max</th>\n",
       "    </tr>\n",
       "    <tr>\n",
       "      <th>CompanyName</th>\n",
       "      <th></th>\n",
       "      <th></th>\n",
       "      <th></th>\n",
       "      <th></th>\n",
       "      <th></th>\n",
       "      <th></th>\n",
       "      <th></th>\n",
       "      <th></th>\n",
       "    </tr>\n",
       "  </thead>\n",
       "  <tbody>\n",
       "    <tr>\n",
       "      <th>Federal Shipping</th>\n",
       "      <td>645.0</td>\n",
       "      <td>496.062524</td>\n",
       "      <td>948.021085</td>\n",
       "      <td>-570.14</td>\n",
       "      <td>94.760</td>\n",
       "      <td>261.890</td>\n",
       "      <td>574.5200</td>\n",
       "      <td>10469.71</td>\n",
       "    </tr>\n",
       "    <tr>\n",
       "      <th>Speedy Express</th>\n",
       "      <td>646.0</td>\n",
       "      <td>459.053851</td>\n",
       "      <td>787.459816</td>\n",
       "      <td>-303.88</td>\n",
       "      <td>88.365</td>\n",
       "      <td>273.950</td>\n",
       "      <td>565.7175</td>\n",
       "      <td>14671.36</td>\n",
       "    </tr>\n",
       "    <tr>\n",
       "      <th>United Package</th>\n",
       "      <td>864.0</td>\n",
       "      <td>511.548407</td>\n",
       "      <td>996.161872</td>\n",
       "      <td>-504.26</td>\n",
       "      <td>86.915</td>\n",
       "      <td>255.045</td>\n",
       "      <td>559.8725</td>\n",
       "      <td>15616.63</td>\n",
       "    </tr>\n",
       "  </tbody>\n",
       "</table>\n",
       "</div>"
      ],
      "text/plain": [
       "                  count        mean         std     min     25%      50%  \\\n",
       "CompanyName                                                                \n",
       "Federal Shipping  645.0  496.062524  948.021085 -570.14  94.760  261.890   \n",
       "Speedy Express    646.0  459.053851  787.459816 -303.88  88.365  273.950   \n",
       "United Package    864.0  511.548407  996.161872 -504.26  86.915  255.045   \n",
       "\n",
       "                       75%       max  \n",
       "CompanyName                           \n",
       "Federal Shipping  574.5200  10469.71  \n",
       "Speedy Express    565.7175  14671.36  \n",
       "United Package    559.8725  15616.63  "
      ]
     },
     "execution_count": 71,
     "metadata": {},
     "output_type": "execute_result"
    }
   ],
   "source": [
    "# Get statistics\n",
    "df.groupby('CompanyName').Profit.describe()"
   ]
  },
  {
   "cell_type": "code",
   "execution_count": 76,
   "metadata": {},
   "outputs": [
    {
     "data": {
      "image/png": "[encoded data removed]",
      "text/plain": [
       "<Figure size 1080x720 with 1 Axes>"
      ]
     },
     "metadata": {
      "needs_background": "light"
     },
     "output_type": "display_data"
    }
   ],
   "source": [
    "df.groupby('CompanyName').Profit.plot.kde(figsize=(15, 10))\n",
    "plt.legend()\n",
    "plt.title('Profit per Order by Shipper')\n",
    "plt.xlabel('Profit ($)')\n",
    "plt.show()"
   ]
  },
  {
   "cell_type": "markdown",
   "metadata": {},
   "source": [
    "These distributions are pretty tight. Let's conduct one-vs-all t-tests similar to before. However, this time we will consider only two tail tests - that is:\n",
    "Null Hypothesis ($H_0$):\n",
    "\n",
    "$$\\mu_A = \\mu_B$$\n",
    "\n",
    "Alternative Hypothesis ($H_1$):\n",
    "\n",
    "$$\\mu_A \\neq \\mu_B$$\n",
    "\n",
    "where A represents one shipper and B represents the other two shippers."
   ]
  },
  {
   "cell_type": "code",
   "execution_count": 85,
   "metadata": {},
   "outputs": [
    {
     "name": "stdout",
     "output_type": "stream",
     "text": [
      "Accept null hypothesis (Federal Shipping vs. Speedy Express)\n",
      "Accept null hypothesis (Federal Shipping vs. United Package)\n",
      "Accept null hypothesis (Speedy Express vs. Federal Shipping)\n",
      "Accept null hypothesis (Speedy Express vs. United Package)\n",
      "Accept null hypothesis (United Package vs. Federal Shipping)\n",
      "Accept null hypothesis (United Package vs. Speedy Express)\n"
     ]
    }
   ],
   "source": [
    "# Get unique shippers\n",
    "shippers = list(df.CompanyName.unique())\n",
    "tot_results = {}\n",
    "alpha = 0.05\n",
    "\n",
    "# Conduct t-tests\n",
    "for shipper in shippers:\n",
    "    for s in [x for x in shippers if x != shipper]:\n",
    "        results = stats.ttest_ind(df.loc[df.CompanyName == shipper].Profit,\n",
    "                                  df.loc[df.CompanyName == s].Profit, \n",
    "                                  equal_var=False)\n",
    "        if (results[1] < alpha):\n",
    "            print(f\"Reject null hypothesis, mean of {shipper} is different than than mean of {s}\")\n",
    "        else:\n",
    "            print(f\"Accept null hypothesis ({shipper} vs. {s})\")\n",
    "        tot_results[f\"{shipper} vs. {s}\"] = results"
   ]
  },
  {
   "cell_type": "code",
   "execution_count": 86,
   "metadata": {},
   "outputs": [
    {
     "name": "stdout",
     "output_type": "stream",
     "text": [
      "{'Federal Shipping vs. Speedy Express': Ttest_indResult(statistic=0.7628955449394752, pvalue=0.44567005839346363),\n",
      " 'Federal Shipping vs. United Package': Ttest_indResult(statistic=-0.3071519065955489, pvalue=0.7587727188742442),\n",
      " 'Speedy Express vs. Federal Shipping': Ttest_indResult(statistic=-0.7628955449394752, pvalue=0.44567005839346363),\n",
      " 'Speedy Express vs. United Package': Ttest_indResult(statistic=-1.1432311482072726, pvalue=0.2531246519298286),\n",
      " 'United Package vs. Federal Shipping': Ttest_indResult(statistic=0.3071519065955489, pvalue=0.7587727188742442),\n",
      " 'United Package vs. Speedy Express': Ttest_indResult(statistic=1.1432311482072726, pvalue=0.2531246519298286)}\n"
     ]
    }
   ],
   "source": [
    "# View each result\n",
    "pprint(tot_results)"
   ]
  },
  {
   "cell_type": "markdown",
   "metadata": {},
   "source": [
    "The two distributions with the lowest compared p-values are United Package and Speedy Express. However, these p-values are not significant enough to consider that shipper company has a statistically significant affect on Profit.\n",
    "\n",
    "These results are interesting since it means that although Speedy Express is statistically significantly less expensive, it does not guarantee that it is a good business decision to completely switch over to them as sole shipping providers. To probe a littler further, let's run the same tests only on orders that resulted in losses (i.e. Profit < 0)."
   ]
  },
  {
   "cell_type": "code",
   "execution_count": 91,
   "metadata": {},
   "outputs": [
    {
     "data": {
      "text/html": [
       "<div>\n",
       "<style scoped>\n",
       "    .dataframe tbody tr th:only-of-type {\n",
       "        vertical-align: middle;\n",
       "    }\n",
       "\n",
       "    .dataframe tbody tr th {\n",
       "        vertical-align: top;\n",
       "    }\n",
       "\n",
       "    .dataframe thead th {\n",
       "        text-align: right;\n",
       "    }\n",
       "</style>\n",
       "<table border=\"1\" class=\"dataframe\">\n",
       "  <thead>\n",
       "    <tr style=\"text-align: right;\">\n",
       "      <th></th>\n",
       "      <th>count</th>\n",
       "      <th>mean</th>\n",
       "      <th>std</th>\n",
       "      <th>min</th>\n",
       "      <th>25%</th>\n",
       "      <th>50%</th>\n",
       "      <th>75%</th>\n",
       "      <th>max</th>\n",
       "    </tr>\n",
       "    <tr>\n",
       "      <th>CompanyName</th>\n",
       "      <th></th>\n",
       "      <th></th>\n",
       "      <th></th>\n",
       "      <th></th>\n",
       "      <th></th>\n",
       "      <th></th>\n",
       "      <th></th>\n",
       "      <th></th>\n",
       "    </tr>\n",
       "  </thead>\n",
       "  <tbody>\n",
       "    <tr>\n",
       "      <th>Federal Shipping</th>\n",
       "      <td>39.0</td>\n",
       "      <td>-130.624872</td>\n",
       "      <td>144.754861</td>\n",
       "      <td>-570.14</td>\n",
       "      <td>-176.585</td>\n",
       "      <td>-73.15</td>\n",
       "      <td>-41.61</td>\n",
       "      <td>-1.14</td>\n",
       "    </tr>\n",
       "    <tr>\n",
       "      <th>Speedy Express</th>\n",
       "      <td>39.0</td>\n",
       "      <td>-55.114872</td>\n",
       "      <td>61.089518</td>\n",
       "      <td>-303.88</td>\n",
       "      <td>-71.335</td>\n",
       "      <td>-34.56</td>\n",
       "      <td>-16.33</td>\n",
       "      <td>-1.37</td>\n",
       "    </tr>\n",
       "    <tr>\n",
       "      <th>United Package</th>\n",
       "      <td>65.0</td>\n",
       "      <td>-103.576231</td>\n",
       "      <td>110.941996</td>\n",
       "      <td>-504.26</td>\n",
       "      <td>-132.720</td>\n",
       "      <td>-53.79</td>\n",
       "      <td>-27.97</td>\n",
       "      <td>-0.80</td>\n",
       "    </tr>\n",
       "  </tbody>\n",
       "</table>\n",
       "</div>"
      ],
      "text/plain": [
       "                  count        mean         std     min      25%    50%  \\\n",
       "CompanyName                                                               \n",
       "Federal Shipping   39.0 -130.624872  144.754861 -570.14 -176.585 -73.15   \n",
       "Speedy Express     39.0  -55.114872   61.089518 -303.88  -71.335 -34.56   \n",
       "United Package     65.0 -103.576231  110.941996 -504.26 -132.720 -53.79   \n",
       "\n",
       "                    75%   max  \n",
       "CompanyName                    \n",
       "Federal Shipping -41.61 -1.14  \n",
       "Speedy Express   -16.33 -1.37  \n",
       "United Package   -27.97 -0.80  "
      ]
     },
     "execution_count": 91,
     "metadata": {},
     "output_type": "execute_result"
    }
   ],
   "source": [
    "losses = df.loc[df.Profit < 0]\n",
    "losses.groupby('CompanyName').Profit.describe()"
   ]
  },
  {
   "cell_type": "code",
   "execution_count": 103,
   "metadata": {},
   "outputs": [
    {
     "data": {
      "image/png": "[encoded data removed]",
      "text/plain": [
       "<Figure size 1080x720 with 1 Axes>"
      ]
     },
     "metadata": {
      "needs_background": "light"
     },
     "output_type": "display_data"
    }
   ],
   "source": [
    "losses.groupby('CompanyName').Profit.plot.kde(figsize=(15, 10))\n",
    "plt.legend()\n",
    "plt.title('Profit on Orders with Losses by Shipping Company')\n",
    "plt.xlabel('Profit')\n",
    "plt.savefig('loss.png')\n",
    "plt.show()"
   ]
  },
  {
   "cell_type": "markdown",
   "metadata": {},
   "source": [
    "It seems that on orders that resulted in losses, Speedy Express had lower impacts than the other two shippers. Let's compare speedy express with the other two to see if this statistically significant."
   ]
  },
  {
   "cell_type": "code",
   "execution_count": 96,
   "metadata": {},
   "outputs": [
    {
     "name": "stdout",
     "output_type": "stream",
     "text": [
      "Reject null hypothesis, mean of Federal Shipping is greater than than mean of United Package\n",
      "Reject null hypothesis, mean of Federal Shipping is greater than than mean of Federal Shipping\n"
     ]
    }
   ],
   "source": [
    "# Run t-test on just losses\n",
    "res = []\n",
    "for s in [x for x in shippers if x != 'Speedy Express']:\n",
    "    results = stats.ttest_ind(losses.loc[losses.CompanyName == 'Speedy Express'].Profit,\n",
    "                              losses.loc[losses.CompanyName == s].Profit, \n",
    "                              equal_var=False)\n",
    "    if (results[0] > 0) & (results[1]/2 < alpha):\n",
    "        print(f\"Reject null hypothesis, mean of {shipper} is greater than than mean of {s}\")\n",
    "    else:\n",
    "        print(f\"Accept null hypothesis ({shipper} vs. {s})\")\n",
    "    res.append(results)"
   ]
  },
  {
   "cell_type": "code",
   "execution_count": 97,
   "metadata": {},
   "outputs": [
    {
     "data": {
      "text/plain": [
       "[Ttest_indResult(statistic=2.8703700976959055, pvalue=0.004990924359206941),\n",
       " Ttest_indResult(statistic=3.001319988063583, pvalue=0.0041498793082418205)]"
      ]
     },
     "execution_count": 97,
     "metadata": {},
     "output_type": "execute_result"
    }
   ],
   "source": [
    "res"
   ]
  },
  {
   "cell_type": "markdown",
   "metadata": {},
   "source": [
    "Wow, looks like there is significant evidence that Speedy Express results in smaller overall losses. Again, keep in mind that when it comes to profit as a whole, we cannot make a significant distinction, but this result is nonethless interesting and thought-provoking."
   ]
  },
  {
   "cell_type": "markdown",
   "metadata": {},
   "source": [
    "# Conclusion\n",
    "\n",
    "We learned some valuable business practice in this lesson. While it is important to check many different metrics for statistical significant, we must make sure to tie it back to financial reasons. This is because business decisions are ultimately dependent on whether or not the decision is likely to increase revenue or decrease cost.\n",
    "\n",
    "In our case, we found two interesting statistically significant conclusions\n",
    "- Discounts have a significant effect on the number of items customers order (larger)\n",
    "- Speedy Express has statistically significant lower shipping costs than both United Package and Federal Shipping\n",
    "\n",
    "However, when we took a look at how these results affect revenue, we found that\n",
    "- Discounts do not have a statistically significant affect on revenue per order\n",
    "- Different shippers do not have a statistically significant affect on \"Profit\" (Revenue - Freight Cost)\n",
    "\n",
    "But, upon probing our second above result further, we found that\n",
    "- On orders that resulted in losses, Speedy Express had statistically less impact than the other two shippers."
   ]
  },
  {
   "cell_type": "code",
   "execution_count": null,
   "metadata": {},
   "outputs": [],
   "source": []
  }
 ],
 "metadata": {
  "kernelspec": {
   "display_name": "Python 3",
   "language": "python",
   "name": "python3"
  },
  "language_info": {
   "codemirror_mode": {
    "name": "ipython",
    "version": 3
   },
   "file_extension": ".py",
   "mimetype": "text/x-python",
   "name": "python",
   "nbconvert_exporter": "python",
   "pygments_lexer": "ipython3",
   "version": "3.6.6"
  }
 },
 "nbformat": 4,
 "nbformat_minor": 2
}
